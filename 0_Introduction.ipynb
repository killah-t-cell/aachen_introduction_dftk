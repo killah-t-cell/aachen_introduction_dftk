{
 "cells": [
  {
   "cell_type": "markdown",
   "metadata": {},
   "source": [
    "# Introduction\n",
    "\n",
    "## About myself\n",
    "- Website: https://michael-herbst.com\n",
    "- Github: https://github.com/mfherbst\n",
    "\n",
    "\n",
    "- PhD in chemistry (Topic: Basis functions in quantum chemistry)\n",
    "- Currently PostDoc at [CERMICS](https://cermics.enpc.fr) (applied math lab, École des Ponts, Paris)\n",
    "- Working with Eric Cancès and Antoine Levitt\n",
    "- Research interests: Plane-Wave density-functional theory methods (and a few other things)\n",
    "- Lead developer of [DFTK](https://dftk.org), julia-based density-functional theory code"
   ]
  },
  {
   "cell_type": "markdown",
   "metadata": {},
   "source": [
    "## Today's subject in images\n",
    "\n",
    "| <img src=\"img/Silicon_crystal.jpg\" width=180 height=180 /> | <img src=\"img/Brillouin_Zone.svg\" width=180 height=180 /> |  <img src=\"img/julia.png\" width=180 height=180 /> |  <img src=\"img/DFTK_3to1.png\" width=180 height=180 /> |\n",
    "  | ------------- | ------------------- | --------------- | -------- |\n",
    "  | Lattices and crystals | Modelling periodic problems | Julia programming language | Density-functional toolkit |\n",
    "  | for example silicon             | with density-functional theory (DFT)  |                            | DFT code written in Julia |"
   ]
  },
  {
   "cell_type": "markdown",
   "metadata": {},
   "source": [
    "## The density-functional toolkit (DFTK)\n",
    "\n",
    "- https://dftk.org\n",
    "- Started in April 2019 by Antoine Levitt and myself\n",
    "- Small, tractable code (5000 lines)\n",
    "- Sizable feature set (mostly ground-state methods)\n",
    "- Performance within factor of 2 to established codes\n",
    "- [Julia](https://julialang.org): Novel programming language for HPC\n",
    "\n",
    "\n",
    "- Target audience: Interdisciplinary researchers\n",
    "- Mathematicians, physicists/chemists *and* applications\n",
    "- Low entry barriers: Implementation close to equations and mathematical structure of DFT\n",
    "\n",
    "\n",
    "- Documentation by examples: https://docs.dftk.org\n",
    "- More later today"
   ]
  },
  {
   "cell_type": "markdown",
   "metadata": {},
   "source": [
    "## About these notes\n",
    "- Notation generally sloppy: Brevity and clearity before exactness\n",
    "- Neglect some nasty details (Function spaces, boundary conditions, spin, ...)\n",
    "- Atomic units:\n",
    "   * Energy in Hartree\n",
    "   * Temperature in Hartree\n",
    "   * Length in Bohrs\n",
    "   * ..."
   ]
  }
 ],
 "metadata": {
  "kernelspec": {
   "display_name": "Julia 1.4.2",
   "language": "julia",
   "name": "julia-1.4"
  },
  "language_info": {
   "file_extension": ".jl",
   "mimetype": "application/julia",
   "name": "julia",
   "version": "1.4.2"
  }
 },
 "nbformat": 4,
 "nbformat_minor": 4
}
