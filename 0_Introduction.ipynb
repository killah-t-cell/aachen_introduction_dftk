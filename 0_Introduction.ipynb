{
 "cells": [
  {
   "cell_type": "markdown",
   "metadata": {},
   "source": [
    "# Introduction\n",
    "\n",
    "- Find these notes: https://github.com/mfherbst/aachen_introduction_dftk\n",
    "- Try them live: https://mybinder.org/v2/gh/mfherbst/aachen_introduction_dftk/master"
   ]
  },
  {
   "cell_type": "markdown",
   "metadata": {},
   "source": [
    "## Today's subject in images\n",
    "\n",
    "| <img src=\"img/Silicon_crystal.jpg\" width=180 height=180 /> | <img src=\"img/Brillouin_Zone.svg\" width=180 height=180 /> |  <img src=\"img/julia.png\" width=180 height=180 /> |  <img src=\"img/DFTK_3to1.png\" width=180 height=180 /> |\n",
    "  | ------------- | ------------------- | --------------- | -------- |\n",
    "  | Lattices and crystals | Modelling periodic problems | Julia programming language | Density-functional toolkit |\n",
    "  | for example silicon             | with density-functional theory (DFT)  |                            | DFT code written in Julia |"
   ]
  },
  {
   "cell_type": "markdown",
   "metadata": {},
   "source": [
    "## The density-functional toolkit (DFTK)\n",
    "\n",
    "<img src=\"img/dftkfields.png\" width=280 height=250 align=\"left\" style=\"padding-right:30px; \" />\n",
    "\n",
    "- https://dftk.org\n",
    "- Started in April 2019 by Antoine Levitt and myself\n",
    "- Small, tractable code (6000 lines)\n",
    "- Sizable feature set (mostly ground-state DFT methods)\n",
    "- Performance within factor of 2 to established codes\n",
    "- [Recent DFTK publication](https://doi.org/10.21105/jcon.00069)\n",
    "- [Julia](https://julialang.org): Novel programming language for HPC\n",
    "\n",
    "\n",
    "- Target audience: Interdisciplinary researchers\n",
    "- Mathematicians, physicists/chemists *and* applications\n",
    "- Low entry barriers: Implementation close to equations and mathematical structure of DFT\n",
    "\n",
    "\n",
    "- Documentation by examples: https://docs.dftk.org\n",
    "- More later today"
   ]
  },
  {
   "cell_type": "markdown",
   "metadata": {},
   "source": [
    "## About these notes\n",
    "- Notation generally sloppy: Brevity and clearity before exactness\n",
    "- Neglect some nasty details (Function spaces, boundary conditions, spin, ...)\n",
    "- Atomic units:\n",
    "   * Energy in Hartree\n",
    "   * Temperature in Hartree\n",
    "   * Length in Bohrs\n",
    "   * ..."
   ]
  }
 ],
 "metadata": {
  "kernelspec": {
   "display_name": "Julia 1.6.1",
   "language": "julia",
   "name": "julia-1.6"
  },
  "language_info": {
   "file_extension": ".jl",
   "mimetype": "application/julia",
   "name": "julia",
   "version": "1.6.1"
  }
 },
 "nbformat": 4,
 "nbformat_minor": 4
}
