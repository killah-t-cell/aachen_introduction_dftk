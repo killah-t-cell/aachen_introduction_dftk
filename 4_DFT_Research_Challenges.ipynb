{
 "cells": [
  {
   "cell_type": "markdown",
   "metadata": {},
   "source": [
    "# Some research challenges in plane-wave DFT\n",
    "\n",
    "## Landscape of DFT codes\n",
    "\n",
    "- Plane-wave DFT is a wide-spread method\n",
    "- [Plenty of software](https://en.wikipedia.org/wiki/Vienna_Ab_initio_Simulation_Package) already exists:\n",
    "  * [ABINIT](https://www.abinit.org) (GPL, Fortran)\n",
    "  * [CASTEP](http://www.castep.org) (proprietary, Fortran)\n",
    "  * [VASP](https://www.vasp.at) (proprietary, Fortran)\n",
    "  * [GPAW](https://wiki.fysik.dtu.dk/gpaw) (GPL, python, C)\n",
    "  * [Quantum ESPRESSO](https://www.quantum-espresso.org) (GPL, Fortran, C)\n",
    "  * [KSSOLV](https://crd-legacy.lbl.gov/~chao/KSSOLV) (academic, Matlab)\n",
    "- Represents hundreds of man-years of coding work!\n",
    "- Why bother writing a new code?\n",
    "- Let's look at some current hot topics ..."
   ]
  },
  {
   "cell_type": "markdown",
   "metadata": {},
   "source": [
    "## Motivating problem: High-throughput screening\n",
    "\n",
    "- DFT is a key method to simulate material properties:\n",
    "    - Photovoltaics $\\Rightarrow$ solar cells\n",
    "    - Catalytic properties $\\Rightarrow$ energy conversion\n",
    "    - Material stability\n",
    "- Nowadays: Discovery of novel materials mostly done *in silico*\n",
    "- Idea: Build up a **design space** by modifying previous results\n",
    "- 10000 or more compounds!\n",
    "- Cut down to the 10-100 most promising\n",
    "- DFT is a **crucial ingredient**!\n",
    "- Usually not directly used, but only to train machine-learning model, but that does not help much"
   ]
  },
  {
   "cell_type": "markdown",
   "metadata": {},
   "source": [
    "**High-throughput requirements:**\n",
    "- Automatisation (millions of calculations!)\n",
    "- Reliability (humans need to detect failures / wrong results)\n",
    "- Efficiency (DFT is not cheap)\n",
    "\n",
    "- In an ideal world: **black-box DFT workflows**: User choses only accuracy, program decides how to get there\n",
    "\n",
    "**State of the art:**\n",
    "- Sizable number of parameters:\n",
    "    * $k$-point sampling\n",
    "    * $E_\\text{cut}$\n",
    "    * Multi-layer convergence tolerance (SCF vs. eigensolver)\n",
    "    * Basically only double precision supported\n",
    "- Selected by experience / heuristics:\n",
    "    * **Too conservative** $\\Rightarrow$ inferiour performance\n",
    "    * **Too optimistic** $\\Rightarrow$ inferiour reliability\n",
    "- In practice up to 50% calculations fail:\n",
    "    * Human supervision\n",
    "    * Idle time\n",
    "    * Delay in research results\n",
    "    \n",
    "**Multidisciplinary problem:**\n",
    "- Reliability: rigorous error control, **numerical analysis**, mathematical properties, **physical** model\n",
    "- Efficiency: error control, numerical analysis, **high-performance computing**\n",
    "- Automatisation: flexibility of code, **software engineering**\n",
    "- Research question: **materials science**"
   ]
  },
  {
   "cell_type": "markdown",
   "metadata": {},
   "source": [
    "## The case for DFTK\n",
    "\n",
    "<img src=\"img/dftk_4nodes.png\" width=500 align=\"left\" style=\"padding-right:30px; \" />"
   ]
  },
  {
   "cell_type": "markdown",
   "metadata": {},
   "source": [
    "- Different communites work differently:\n",
    "    * **Mathematicians:** Toy models and unphysical edge cases\n",
    "    * **Scientist:** Design new models, not tweak numerics\n",
    "    * **High-performance specialist:** Exploit what hardware offers\n",
    "    * **Practicioner:** Reliable, black-box, high-level interface\n",
    "    \n",
    "    \n",
    "    \n",
    "- Need one code to bundle the efforts!\n",
    "- $\\Rightarrow$ DFTK designed as **platform for** multidisciplinary **collaboration**\n",
    "\n",
    "\n",
    "\n",
    "- Used by **both** mathematicians and application scientists\n",
    "- **Performance** within factor 2 to 3 to established codes\n",
    "- $\\Rightarrow$ Not the fastest code, but fast enough to do practical simulation work\n",
    "- $\\Rightarrow$ Still extremely flexible"
   ]
  },
  {
   "cell_type": "markdown",
   "metadata": {},
   "source": [
    "## The Julia programming language\n",
    "\n",
    "- https://julialang.org\n",
    "- Started 10 years ago, 1.0 released in August 2018"
   ]
  },
  {
   "cell_type": "markdown",
   "metadata": {},
   "source": [
    "- *Walk like Python, talks like Lisp, runs like FORTRAN*\n",
    "- High-level language, but still hackable\n",
    "- Just-in-time compiled to byte code before *native* execution\n",
    "- Key concept from functional languages: **Multiple dispatch**\n",
    "- Amongst C++ and Fortran one of the 3 languages which have been [scaled to a complete supercomputer](https://juliacomputing.com/blog/2019/04/12/Supercomputing-julia.html)\n",
    "- Rich ecosystem (Optimisation, PDEs, stochastic processes, GPUs, Machine-Learning, Statistics, Linear Algebra, ...)"
   ]
  },
  {
   "cell_type": "markdown",
   "metadata": {},
   "source": [
    "- $\\Rightarrow$ Greatest advantage is **composability** and **code reuse**:\n",
    "  * High-level code, automatically hardware-specific kernel\n",
    "  * E.g. CPU and GPU code look similar to alike\n",
    "  * Library code and user code decoupled extremely well\n",
    "  * Simplifies mixing and matching from the ecosystem as needed\n",
    "  * Key reason for the **rapid development** of DFTK\n",
    "- Quick one-hour overview: https://github.com/mfherbst/julia-one-hour-intro\n",
    "- One-day introductory course: https://michael-herbst.com/learn-julia"
   ]
  },
  {
   "cell_type": "markdown",
   "metadata": {},
   "source": [
    "## Focus problem 1: Reliable SCF algorithms\n",
    "\n",
    "- Not trivial, focus on a few aspects only.\n",
    "\n",
    "- One can view the SCF as a fixed-point problem\n",
    "  $$ F(V(\\rho)) = \\rho $$\n",
    "  that is iteratively solved\n",
    "  $$ \\rho_{n+1} = \\rho_n + P^{-1} F(V(\\rho_n)) $$\n",
    "- How to choose the preconditioner $P$?\n",
    "- Depends on **dielectric properties** of a material\n",
    "- $\\Rightarrow$ Need to do SCF differently for metals, insulators, semiconductors, ..."
   ]
  },
  {
   "cell_type": "markdown",
   "metadata": {},
   "source": [
    "|   Aluminium (a metal)                                     |   Gallium arsenide (a semiconductor)   |   Silica (an insulator)   |\n",
    "| :-------------------------------------------------------: | :------------------------------------: | :-------: |\n",
    "| <img src=\"img/Al_repeat_40.png\" width=300 />   | <img src=\"img/GaAs_repeat_40.png\" width=300 /> | <img src=\"img/SiO2_repeat_39.png\" width=300 /> |"
   ]
  },
  {
   "cell_type": "markdown",
   "metadata": {},
   "source": [
    "- What to do for mixed systems, e.g. Aluminium + Silica:\n",
    "  <img src=\"img/alsio2.png\" width=500 />\n",
    "- Turns out standard cases don't do so well:\n",
    "  <img src=\"img/AlSiO2H_repeat_20.png\" width=400 />\n",
    "\n",
    "- LDOS is a preconditiong strategy we developed and [published recently](https://michael-herbst.com/publications/2020.09.03_ldos_preconditioning.pdf) using DFTK\n",
    "- **More details** on this in the [SSD Seminar Talk on DFT](https://blog.rwth-aachen.de/irtg-mip/event/ssd-herbst/) on 12 July 2021.\n",
    "\n",
    "**The role of DFTK:**\n",
    "- To obtain mathematical understanding need to treat reduced problems:\n",
    "  * 1D or 2D\n",
    "  * Small $E_\\text{cut}$ and $k$-grids for fast feedback loop\n",
    "  \n",
    "  \n",
    "- To **design an algorithm**:\n",
    "  * Mix and match ideas\n",
    "  * Change order of typical steps (e.g. for backtracking, line searches, ...)\n",
    "  * No need to be fast, needs to be easy to try\n",
    "  * $\\Rightarrow$ High-level code inside key algorithms\n",
    "  \n",
    "  \n",
    "- To **test an algorithm**:\n",
    "  * Scale implementation to realistic problem sizes\n",
    "  * Finer grids, performance optimisation\n",
    "  * First version never works $\\Rightarrow$ Should not take weeks to do this!\n",
    "  \n",
    "- **DFTK supports both** (see exercises)\n",
    "\n",
    "\n",
    "- Subject of ongoing research (**Theses topics** available!)"
   ]
  },
  {
   "cell_type": "markdown",
   "metadata": {},
   "source": [
    "## Focus problem 2: Error estimation in DFT\n",
    "\n",
    "- Sources of error in plane-wave DFT:\n",
    "  * Model error\n",
    "  * Discretisation error (cutoff and BZ)\n",
    "  * Algorithm error\n",
    "  * Arithmetic error\n",
    "- Natural question to ask: How large?\n",
    "\n",
    "**State of the art:**\n",
    "- \"Benchmarking\": Emprical accuracy idea\n",
    "- Other methods exist:\n",
    "    * Uncertainty quantification (aviation, car manifacture)\n",
    "    * A posteriori error analysis\n",
    "    * **Not used** in quantum chemistry\n",
    "\n",
    "**Prospect of error analysis**\n",
    "- Errors estimated $\\Rightarrow$ Parameters chosen to balance errors optimally\n",
    "    * Parameters automatically chosen $\\Rightarrow$ Automatisation\n",
    "    * Total error controlled $\\Rightarrow$ Reliability\n",
    "    * Optimal error balance $\\Rightarrow$ Efficiency\n",
    "    * **Would solve many key problems** in high-throughput\n",
    "- Problem: Rigorous error estimation for full DFT is open research problem\n",
    "\n",
    "**Reduced models:**\n",
    "- First results [obtained recently](https://michael-herbst.com/publications/2020.04.28_error_nonscf_kohn_sham.pdf)\n",
    "  on non-SCF models:\n",
    "\n",
    "<img src=\"img/si_band_errors.png\" width=600 height=600 />\n",
    "\n",
    "**The role of DFTK:**\n",
    "- Fully customisable model: Toy problems accessible\n",
    "- Code agrees with mathematical structure of DFT\n",
    "- Code independent of model: Results can be expanded to full DFT later!"
   ]
  }
 ],
 "metadata": {
  "kernelspec": {
   "display_name": "Julia 1.7.3",
   "language": "julia",
   "name": "julia-1.7"
  },
  "language_info": {
   "file_extension": ".jl",
   "mimetype": "application/julia",
   "name": "julia",
   "version": "1.7.3"
  }
 },
 "nbformat": 4,
 "nbformat_minor": 4
}
