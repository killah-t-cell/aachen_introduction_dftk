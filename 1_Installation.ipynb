{
 "cells": [
  {
   "cell_type": "markdown",
   "id": "20a4a401",
   "metadata": {},
   "source": [
    "# Installation and Setup\n",
    "\n",
    "## Software and material\n",
    "What you need for the workshop (quick overview):\n",
    "\n",
    "- [Julia 1.7](https://julialang.org/downloads/)\n",
    "- Python installation with [ASE](https://wiki.fysik.dtu.dk/ase/)\n",
    "- [Jupyter](https://jupyter.org/) and [IJulia.jl](https://github.com/JuliaLang/IJulia.jl)\n",
    "- This repository of workshop materials\n",
    "- All required dependencies (Julia packages) for the workshop\n",
    "\n",
    "### Getting Julia\n",
    "For following the course you will need at least **Julia 1.7**.\n",
    "Julia can be easily obtained in binary form from [Julia downloads](https://julialang.org/downloads/).\n",
    "Having obtained Julia proceed with `Getting all the rest` below.\n",
    "\n",
    "### Alternative: RWTH Aachen Jupyter lab\n",
    "Instead of installing Julia on your machine you can also use the [RWTH Jupyter Lab](https://jupyter.rwth-aachen.de), which has a ready-to-use Julia installation. The steps to follow in this case are:\n",
    "\n",
    "1. Go to https://jupyter.rwth-aachen.de and log in with your RWTH credentials.\n",
    "1. In the [Hub Control Panel](https://jupyter.rwth-aachen.de/hub) start a Julia kernel (labelled `[Kernels] Julia`).\n",
    "1. Wait for the server to start.\n",
    "1. Once your instance is running, select from the Menu: `File -> New -> Terminal` and start the Julia REPL by typing in `julia`, followed by pressing Enter.\n",
    "1. Proceed with copy n' pasting the commands from `Getting all the rest` below.\n",
    "1. Proceed with `Multithreaded Jupyter kernel` below.\n",
    "1. Once this is finished you can e.g. do the exercises by navigating to the `aachen_introduction_dftk` folder using the left-hand-side panel (File Browser). Then double click to open the folder and open the `6_Exercises.ipynb` notebook, again using a double click. This will open an environment similar to a Jupyter notebook in another tab, which you can use to do the exercises. \n",
    "\n",
    "### Getting all the rest\n",
    "To get the remaining files and dependencies\n",
    "start up `julia` and in the resulting REPL shell,\n",
    "copy and paste the following:\n",
    "\n",
    "```julia\n",
    "import Downloads\n",
    "script = Downloads.download(\"https://raw.githubusercontent.com/mfherbst/aachen_introduction_dftk/master/install.jl\")\n",
    "include(script)\n",
    "```\n",
    "This [downloads the install.jl script](https://raw.githubusercontent.com/mfherbst/aachen_introduction_dftk/master/install.jl)\n",
    "and runs it from julia.\n",
    "Follow the instructions on the screen and start the Jupyter notebook server\n",
    "with the command that will be printed.\n",
    "\n",
    "As an alternative you can also also run the following commands manually\n",
    "(this requires to have `git` and `julia` available from the commandline):\n",
    "```\n",
    "git clone https://github.com/mfherbst/aachen_introduction_dftk\n",
    "cd aachen_introduction_dftk\n",
    "julia install-manual.jl\n",
    "```\n",
    "\n",
    "### Troubleshooting\n",
    "If you are facing issues, check out\n",
    "the [great troubleshooting section](https://carstenbauer.github.io/WorkshopWizard.jl/dev/troubleshooting/)\n",
    "from the WorkshopWizard package by Carsten Bauer (which `install.jl` is using)."
   ]
  },
  {
   "cell_type": "markdown",
   "id": "5edcb4fc",
   "metadata": {},
   "source": [
    "### Multithreaded Jupyter kernel\n",
    "\n",
    "By default Julia only using a single thread. But you can also create a *Jupyter kernel* for multithreaded Julia. It is highly recommended you do this for the exercises. \n",
    "\n",
    "```julia\n",
    "using IJulia\n",
    "installkernel(\"Julia (4 threads)\", \"--project=@.\", env=Dict(\"JULIA_NUM_THREADS\"=>\"4\"))\n",
    "```\n",
    "\n",
    "Afterwards restart your Jupyter process to see an effect. You can change the kernel by selecting in the menu Kernel => Change kernel.\n",
    "\n",
    "\n",
    "*Note:* This has to be manually redone for every new Julia version."
   ]
  },
  {
   "cell_type": "markdown",
   "id": "6651d7a5",
   "metadata": {},
   "source": [
    "## Verifying everything works\n",
    "\n",
    "A few quick commands to run:"
   ]
  },
  {
   "cell_type": "code",
   "execution_count": null,
   "id": "40f36edf",
   "metadata": {},
   "outputs": [],
   "source": [
    "using Plots\n",
    "\n",
    "p = plot(1, xlim=(0, 3π), ylim=(-1.5, 1.5), title=\"Sine\", marker=2)\n",
    "N = 100\n",
    "@gif for i=1:N\n",
    "    x = (i-1) * 3π / N\n",
    "    push!(p, x, sin(x))\n",
    "end"
   ]
  },
  {
   "cell_type": "code",
   "execution_count": null,
   "id": "d4b7dfd7",
   "metadata": {},
   "outputs": [],
   "source": [
    "using PyCall\n",
    "pyimport(\"ase\").__version__  # Should print ASE's version number"
   ]
  }
 ],
 "metadata": {
  "kernelspec": {
   "display_name": "Julia 1.7.3",
   "language": "julia",
   "name": "julia-1.7"
  },
  "language_info": {
   "file_extension": ".jl",
   "mimetype": "application/julia",
   "name": "julia",
   "version": "1.7.3"
  }
 },
 "nbformat": 4,
 "nbformat_minor": 5
}
